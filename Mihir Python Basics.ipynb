{
 "cells": [
  {
   "cell_type": "code",
   "execution_count": 8,
   "id": "2aea3f45",
   "metadata": {},
   "outputs": [
    {
     "name": "stdout",
     "output_type": "stream",
     "text": [
      "Your NAME , Laptop:Mihirs-MacBook-Air.local, Time:2022-06-02 21:02:46.711792\n",
      "The area of circle having radius 20 is 1256.6370614359173\n"
     ]
    }
   ],
   "source": [
    "##Q1 : Class Quiz\n",
    "\n",
    "import socket\n",
    "import datetime as dt\n",
    "print(\"Your NAME , Laptop:{0}, Time:{1}\".format(socket.gethostname(), dt.datetime.now()))\n",
    "\n",
    "import math\n",
    "radius = 20\n",
    "if radius == 20:\n",
    "    area = radius * radius * math.pi\n",
    "    print(\"The area of circle having radius\", radius, \"is\",area)\n",
    "else:\n",
    "    print(\" Radius is not equal to:\",radius)\n"
   ]
  },
  {
   "cell_type": "code",
   "execution_count": 11,
   "id": "d1c7ce0c",
   "metadata": {},
   "outputs": [
    {
     "name": "stdout",
     "output_type": "stream",
     "text": [
      "Enter the value of radius:12\n",
      "The area of circle having radius 12.0 is 452.3893421169302\n"
     ]
    }
   ],
   "source": [
    "##Q2\n",
    "\n",
    "import socket\n",
    "import datetime as dt\n",
    "print(\"Your NAME , Laptop:{0}, Time:{1}\".format(socket.gethostname(), dt.datetime.now()))\n",
    "\n",
    "radius = float(input(\"Enter the value of radius:\"))\n",
    "\n",
    "area = radius * radius * math.pi\n",
    "print(\"The area of circle having radius\", radius, \"is\",float(area))\n"
   ]
  },
  {
   "cell_type": "code",
   "execution_count": 12,
   "id": "ac3659cb",
   "metadata": {},
   "outputs": [
    {
     "name": "stdout",
     "output_type": "stream",
     "text": [
      "Enter the value of first number:10\n",
      "Enter the value of second number:10\n",
      "Enter the value of third number:10\n",
      "Average of three numbers is : 10.0\n"
     ]
    }
   ],
   "source": [
    "##Q3\n",
    "\n",
    "import socket\n",
    "import datetime as dt\n",
    "print(\"Your NAME , Laptop:{0}, Time:{1}\".format(socket.gethostname(), dt.datetime.now()))\n",
    "\n",
    "first_no = float(input(\"Enter the value of first number:\"))\n",
    "second_no = float(input(\"Enter the value of second number:\"))\n",
    "third_no = float(input(\"Enter the value of third number:\"))\n",
    "\n",
    "avg = (first_no + second_no + third_no)/3\n",
    "print(\"Average of three numbers is :\", avg)\n"
   ]
  },
  {
   "cell_type": "code",
   "execution_count": 13,
   "id": "76238b44",
   "metadata": {},
   "outputs": [
    {
     "name": "stdout",
     "output_type": "stream",
     "text": [
      "Enter three numbers seperated by commas:10,10,10\n",
      "Average of three numbers is : 10.0\n"
     ]
    }
   ],
   "source": [
    "###Q4\n",
    "\n",
    "import socket\n",
    "import datetime as dt\n",
    "print(\"Your NAME , Laptop:{0}, Time:{1}\".format(socket.gethostname(), dt.datetime.now()))\n",
    "\n",
    "first_no, second_no, third_no = eval(input(\"Enter three numbers seperated by commas:\"))\n",
    "avg = (first_no + second_no + third_no)/3\n",
    "print(\"Average of three numbers is :\", avg)\n"
   ]
  },
  {
   "cell_type": "code",
   "execution_count": null,
   "id": "f59bdea4",
   "metadata": {},
   "outputs": [],
   "source": [
    "##Q5\n",
    "\n",
    "import socket\n",
    "import datetime as dt\n",
    "print(\"Your NAME , Laptop:{0}, Time:{1}\".format(socket.gethostname(), dt.datetime.now()))\n",
    "\n",
    "\n",
    "seconds = int(input(\"Enter the seconds:\"))\n",
    "\n",
    "minutes = (seconds//60)\n",
    "remaining_seconds = seconds%60\n",
    "\n",
    "print(\"Given Seconds are :\", seconds, \"conversion is\", minutes,\"Minutes and\", remaining_seconds, \"seconds\")\n"
   ]
  },
  {
   "cell_type": "code",
   "execution_count": 19,
   "id": "4e8ff0c8",
   "metadata": {},
   "outputs": [
    {
     "name": "stdout",
     "output_type": "stream",
     "text": [
      "Your NAME , Laptop:Mihirs-MacBook-Air.local, Time:2022-06-02 21:09:33.183615\n",
      "Enter the Number to check divisibility:15\n",
      "HiFive \n"
     ]
    }
   ],
   "source": [
    "###Q6\n",
    "\n",
    "import socket\n",
    "import datetime as dt\n",
    "print(\"Your NAME , Laptop:{0}, Time:{1}\".format(socket.gethostname(), dt.datetime.now()))\n",
    "\n",
    "number = int(input(\"Enter the Number to check divisibility:\"))\n",
    "\n",
    "if number%5 ==0 and number%2 ==0:\n",
    "    print(\"Divisible by 5 and 2\")\n",
    "elif number%2 == 0:\n",
    "    print(\"HiEven\")\n",
    "elif number%5 ==0 :\n",
    "    print(\"HiFive \")\n",
    "else:\n",
    "    print(\"Not divisible 5 or 2\")\n",
    "\n"
   ]
  },
  {
   "cell_type": "code",
   "execution_count": 4,
   "id": "2f354331",
   "metadata": {},
   "outputs": [
    {
     "name": "stdout",
     "output_type": "stream",
     "text": [
      "Enter the value of year2022\n",
      "Tiger\n"
     ]
    }
   ],
   "source": [
    "##Q7\n",
    "\n",
    "import socket\n",
    "import datetime as dt\n",
    "print(\"Your NAME , Laptop:{0}, Time:{1}\".format(socket.gethostname(), dt.datetime.now()))\n",
    "\n",
    "year = int(input(\"Enter the value of year\"))\n",
    "z_year = year%12\n",
    "if z_year == 0:\n",
    "    print(\"Monkey\")\n",
    "elif z_year == 1:\n",
    "    print(\"Rooster\")\n",
    "elif z_year == 2:\n",
    "    print(\"Dog\")\n",
    "elif z_year == 3:\n",
    "    print(\"Pig\")\n",
    "elif z_year == 4:\n",
    "    print(\"rat\")\n",
    "elif z_year == 5:\n",
    "    print(\"ox\")\n",
    "elif z_year == 6:\n",
    "    print(\"Tiger\")\n",
    "elif z_year == 7:\n",
    "    print(\"rabit\")\n",
    "elif z_year == 8:\n",
    "    print(\"dragon\")\n",
    "elif z_year == 9:\n",
    "    print(\"snake\")\n",
    "elif z_year == 10:\n",
    "    print(\"horse\")\n",
    "elif z_year == 11:\n",
    "    print(\"sheep\")"
   ]
  },
  {
   "cell_type": "code",
   "execution_count": 4,
   "id": "3634b925",
   "metadata": {},
   "outputs": [
    {
     "name": "stdout",
     "output_type": "stream",
     "text": [
      "Enter your guessed number:20\n",
      "Your guess is too low\n",
      "Enter your guessed number:50\n",
      "Your guess is too low\n",
      "Enter your guessed number:80\n",
      "Your guess is too low\n",
      "Enter your guessed number:90\n",
      "Your guess is too low\n",
      "Enter your guessed number:96\n",
      "Yes guessed number is: 96\n"
     ]
    }
   ],
   "source": [
    "##Q8\n",
    "\n",
    "import socket\n",
    "import datetime as dt\n",
    "print(\"Your NAME , Laptop:{0}, Time:{1}\".format(socket.gethostname(), dt.datetime.now()))\n",
    "\n",
    "import random\n",
    "\n",
    "number = random.randint(0,100)\n",
    "\n",
    "user_number = 10\n",
    "\n",
    "while( number != user_number):\n",
    "    \n",
    "    user_number = int(input(\"Enter your guessed number:\"))\n",
    "    \n",
    "    if user_number == number:\n",
    "        print(\"Yes guessed number is:\", number)\n",
    "    elif user_number > number:\n",
    "        print(\"Your guess is too high\")\n",
    "    elif user_number < number:\n",
    "         print(\"Your guess is too low\")\n",
    "        \n",
    "    \n",
    "    \n",
    "\n",
    "\n"
   ]
  },
  {
   "cell_type": "code",
   "execution_count": 6,
   "id": "842ebd82",
   "metadata": {},
   "outputs": [
    {
     "name": "stdout",
     "output_type": "stream",
     "text": [
      "Enter a string:wow\n",
      "The string is a palindrome\n"
     ]
    }
   ],
   "source": [
    "##Q9\n",
    "\n",
    "import socket\n",
    "import datetime as dt\n",
    "print(\"Your NAME , Laptop:{0}, Time:{1}\".format(socket.gethostname(), dt.datetime.now()))\n",
    "\n",
    "string=input((\"Enter a string:\"))\n",
    "if(string==string[::-1]):\n",
    "      print(\"The string is a palindrome\")\n",
    "else:\n",
    "      print(\"Not a palindrome\")\n",
    "\n"
   ]
  },
  {
   "cell_type": "code",
   "execution_count": 9,
   "id": "962c4ede",
   "metadata": {},
   "outputs": [
    {
     "name": "stdout",
     "output_type": "stream",
     "text": [
      "Your NAME , Laptop:Mihirs-MacBook-Air.local, Time:2022-06-02 21:03:45.950480\n",
      "The first 50 prime numbers are\n",
      "    2    3    5    7   11   13   17   19   23   29\n",
      "   31   37   41   43   47   53   59   61   67   71\n",
      "   73   79   83   89   97  101  103  107  109  113\n",
      "  127  131  137  139  149  151  157  163  167  173\n",
      "  179  181  191  193  197  199  211  223  227  229\n"
     ]
    }
   ],
   "source": [
    "###Q10\n",
    "\n",
    "\n",
    "\n",
    "import socket\n",
    "import datetime as dt\n",
    "print(\"Your NAME , Laptop:{0}, Time:{1}\".format(socket.gethostname(), dt.datetime.now()))\n",
    "\n",
    "NUMBER_OF_PRIMES = 50  # Number of primes to display\n",
    "\n",
    "NUMBER_OF_PRIMES_PER_LINE = 10 # Display 10 per line\n",
    "\n",
    "count = 0 # Count the number of prime numbers\n",
    "\n",
    "number = 2 # A number to be tested for primeness\n",
    "\n",
    "print(\"The first 50 prime numbers are\")\n",
    "\n",
    "# Repeatedly find prime numbers\n",
    "\n",
    "while count < NUMBER_OF_PRIMES:\n",
    "\n",
    "    # Assume the number is prime\n",
    "\n",
    "    isPrime = True # Is the current number prime?\n",
    "\n",
    " \n",
    "\n",
    "    # Test if number is prime\n",
    "\n",
    "    divisor = 2\n",
    "\n",
    "    while divisor <= number / 2:\n",
    "\n",
    "        if number % divisor == 0:\n",
    "\n",
    "            # If true, the number is not prime\n",
    "\n",
    "            isPrime = False  # Set isPrime to false\n",
    "\n",
    "            break  # Exit the for loop\n",
    "\n",
    "        divisor += 1\n",
    "\n",
    "    # Display the prime number and increase the count\n",
    "\n",
    "    if isPrime:\n",
    "\n",
    "        count += 1 # Increase the count\n",
    "\n",
    "        print(format(number, '5d'), end = '')\n",
    "\n",
    "        if count % NUMBER_OF_PRIMES_PER_LINE == 0:\n",
    "\n",
    "            # Display the number and advance to the new line\n",
    "\n",
    "            print() # Jump to the new line\n",
    "\n",
    "    # Check if the next number is prime\n",
    "\n",
    "    number += 1\n",
    "\n",
    "\n"
   ]
  },
  {
   "cell_type": "code",
   "execution_count": null,
   "id": "da08b6e1",
   "metadata": {},
   "outputs": [],
   "source": []
  }
 ],
 "metadata": {
  "kernelspec": {
   "display_name": "Python 3 (ipykernel)",
   "language": "python",
   "name": "python3"
  },
  "language_info": {
   "codemirror_mode": {
    "name": "ipython",
    "version": 3
   },
   "file_extension": ".py",
   "mimetype": "text/x-python",
   "name": "python",
   "nbconvert_exporter": "python",
   "pygments_lexer": "ipython3",
   "version": "3.9.12"
  }
 },
 "nbformat": 4,
 "nbformat_minor": 5
}
